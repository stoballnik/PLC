{
 "cells": [
  {
   "cell_type": "code",
   "execution_count": 1,
   "metadata": {},
   "outputs": [],
   "source": [
    "from VirtualMachine import VirtualMachine\n",
    "from Assembler import Assembler\n",
    "from Disassembler import Disassembler\n"
   ]
  },
  {
   "cell_type": "code",
   "execution_count": 2,
   "metadata": {},
   "outputs": [
    {
     "name": "stdout",
     "output_type": "stream",
     "text": [
      "Программа возвращает элемент последовательности Фибоначчи под заданным номером\n",
      "Введите номер:\n",
      "17\n",
      "Число под этим номером равно:\n",
      "2584\n"
     ]
    }
   ],
   "source": [
    "asm = Assembler()\n",
    "asm.assembly(\"fib.asm\", \"fib.bin\")\n",
    "vm = VirtualMachine()\n",
    "vm.read_program(\"fib.bin\")\n",
    "vm.run()"
   ]
  },
  {
   "cell_type": "code",
   "execution_count": 3,
   "metadata": {},
   "outputs": [],
   "source": [
    "dis_asm = Disassembler()\n",
    "dis_asm.disassembly(\"fib.bin\", \"disasm_fib.asm\")"
   ]
  }
 ],
 "metadata": {
  "kernelspec": {
   "display_name": "Python 3",
   "language": "python",
   "name": "python3"
  },
  "language_info": {
   "codemirror_mode": {
    "name": "ipython",
    "version": 3
   },
   "file_extension": ".py",
   "mimetype": "text/x-python",
   "name": "python",
   "nbconvert_exporter": "python",
   "pygments_lexer": "ipython3",
   "version": "3.6.4"
  }
 },
 "nbformat": 4,
 "nbformat_minor": 2
}
